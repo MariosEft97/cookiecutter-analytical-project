{
 "cells": [
  {
   "cell_type": "markdown",
   "metadata": {},
   "source": [
    "### Colorectal Cancer Dataset"
   ]
  },
  {
   "cell_type": "code",
   "execution_count": 1,
   "metadata": {},
   "outputs": [],
   "source": [
    "# modules' import\n",
    "\n",
    "import sys\n",
    "sys.path.append('c:\\\\Users\\\\35799\\\\Desktop\\\\KU Leuven\\\\Semester 3\\\\cookiecutter-analytical-project\\\\biolizard-internship-marios\\\\src')\n",
    "\n",
    "from src import ai_module as ai"
   ]
  },
  {
   "cell_type": "code",
   "execution_count": 2,
   "metadata": {},
   "outputs": [],
   "source": [
    "# define data folder path and data file names\n",
    "\n",
    "raw_data_folder = r\"C:\\Users\\35799\\Desktop\\KU Leuven\\Semester 3\\cookiecutter-analytical-project\\biolizard-internship-marios\\data\\raw\"\n",
    "\n",
    "gene_expression_data = r\"Colorectal Cancer Gene Expression Data.csv\"\n",
    "patient_data = r\"Colorectal Cancer Patient Data.csv\""
   ]
  },
  {
   "cell_type": "code",
   "execution_count": 3,
   "metadata": {},
   "outputs": [],
   "source": [
    "# load data in Pandas DataFrames\n",
    "\n",
    "gene_expression_df = ai.data_load(raw_data_folder, gene_expression_data)\n",
    "patient_df = ai.data_load(raw_data_folder, patient_data)"
   ]
  },
  {
   "cell_type": "code",
   "execution_count": 4,
   "metadata": {},
   "outputs": [
    {
     "name": "stdout",
     "output_type": "stream",
     "text": [
      "\n",
      "\n",
      "DATA FILE:\n",
      "----------------------------------------------------------------------------------------------------\n",
      "Colorectal Cancer Gene Expression Data.csv\n",
      "----------------------------------------------------------------------------------------------------\n",
      "\n",
      "\n",
      "DIMENSIONS:\n",
      "----------------------------------------------------------------------------------------------------\n",
      "Entries: 1935\n",
      "Features: 63\n",
      "----------------------------------------------------------------------------------------------------\n",
      "\n",
      "\n",
      "CATEGORICAL FEATURES:\n",
      "----------------------------------------------------------------------------------------------------\n",
      "There are no categorical features in the dataset.\n",
      "----------------------------------------------------------------------------------------------------\n",
      "\n",
      "\n",
      "CONTINUOUS FEATURES:\n",
      "----------------------------------------------------------------------------------------------------\n",
      "Features      Count    Mean    Std    Min    25th    Median    75th     Max\n",
      "----------  -------  ------  -----  -----  ------  --------  ------  ------\n",
      "GSM877126      1935   4.051  1.574  2.372   2.96      3.502   4.658  14.687\n",
      "GSM877127      1935   4.148  1.635  2.32    3.017     3.556   4.785  14.604\n",
      "GSM877128      1935   4.094  1.563  2.354   3.021     3.555   4.681  14.715\n",
      "GSM877129      1935   4.109  1.605  2.309   3.025     3.541   4.719  14.63\n",
      "GSM877130      1935   4.039  1.55   2.349   2.984     3.471   4.634  14.715\n",
      "GSM877131      1935   4.064  1.571  2.307   2.988     3.508   4.683  14.508\n",
      "GSM877132      1935   4.05   1.576  2.396   2.988     3.506   4.602  14.76\n",
      "GSM877133      1935   4.101  1.575  2.274   3.024     3.557   4.666  14.705\n",
      "GSM877134      1935   4.05   1.573  2.345   2.971     3.505   4.654  14.635\n",
      "GSM877135      1935   4.091  1.602  2.373   2.997     3.517   4.703  14.554\n",
      "GSM877136      1935   4.132  1.601  2.29    3.013     3.583   4.789  14.673\n",
      "GSM877137      1935   4.067  1.583  2.373   3         3.489   4.662  14.645\n",
      "GSM877138      1935   4.102  1.599  2.325   3.002     3.562   4.7    14.601\n",
      "GSM877139      1935   4.111  1.592  2.356   3.034     3.543   4.692  14.677\n",
      "GSM877140      1935   4.131  1.587  2.25    3.05      3.591   4.749  14.545\n",
      "GSM877141      1935   4.041  1.598  2.262   2.949     3.471   4.641  14.616\n",
      "GSM877142      1935   4.018  1.54   2.306   2.997     3.469   4.566  14.534\n",
      "GSM877143      1935   4.086  1.565  2.307   3.013     3.554   4.662  14.611\n",
      "GSM877144      1935   4.203  1.615  2.444   3.093     3.663   4.789  14.432\n",
      "GSM877145      1935   4.042  1.542  2.354   2.988     3.53    4.644  14.706\n",
      "GSM877146      1935   4.07   1.582  2.371   2.974     3.506   4.679  14.594\n",
      "GSM877147      1935   4.201  1.625  2.285   3.074     3.639   4.92   14.515\n",
      "GSM877148      1935   4.073  1.563  2.339   3.008     3.535   4.675  14.727\n",
      "GSM877149      1935   4.046  1.6    2.284   2.949     3.476   4.658  14.597\n",
      "GSM877150      1935   4.112  1.595  2.373   3.02      3.543   4.734  14.643\n",
      "GSM877151      1935   4.049  1.538  2.328   2.995     3.517   4.627  14.796\n",
      "GSM877152      1935   4.106  1.581  2.294   3.018     3.545   4.686  14.721\n",
      "GSM877153      1935   4.155  1.618  2.297   3.047     3.578   4.749  14.591\n",
      "GSM877154      1935   4.032  1.557  2.239   2.982     3.456   4.607  14.651\n",
      "GSM877155      1935   4.038  1.549  2.289   2.969     3.484   4.611  14.516\n",
      "GSM877156      1935   4.031  1.584  2.308   2.939     3.457   4.647  14.521\n",
      "GSM877157      1935   4.065  1.564  2.302   2.98      3.536   4.694  14.767\n",
      "GSM877158      1935   4.039  1.544  2.314   3.001     3.514   4.619  14.753\n",
      "GSM877159      1935   4.096  1.619  2.338   2.974     3.499   4.736  14.647\n",
      "GSM877160      1935   4.12   1.595  2.33    3.044     3.568   4.725  14.713\n",
      "GSM877161      1935   4.131  1.556  2.344   3.072     3.634   4.691  14.832\n",
      "GSM877162      1935   4.097  1.587  2.343   3.008     3.557   4.727  14.65\n",
      "GSM877163      1935   4.034  1.584  2.282   2.961     3.457   4.638  14.715\n",
      "GSM877164      1935   4.127  1.565  2.313   3.062     3.578   4.757  14.361\n",
      "GSM877165      1935   4.021  1.563  2.296   2.958     3.437   4.671  14.692\n",
      "GSM877166      1935   4.082  1.573  2.358   3.017     3.533   4.632  14.837\n",
      "GSM877167      1935   4.028  1.533  2.286   2.982     3.487   4.623  14.67\n",
      "GSM877168      1935   4.114  1.555  2.302   3.052     3.566   4.72   14.549\n",
      "GSM877169      1935   4.067  1.607  2.339   2.974     3.501   4.665  14.756\n",
      "GSM877170      1935   4.045  1.58   2.3     2.974     3.486   4.664  14.634\n",
      "GSM877171      1935   4.095  1.582  2.332   3.009     3.542   4.689  14.53\n",
      "GSM877173      1935   4.01   1.569  2.291   2.95      3.417   4.595  14.693\n",
      "GSM877174      1935   4.062  1.581  2.341   2.989     3.532   4.643  14.714\n",
      "GSM877175      1935   4.097  1.579  2.288   3.03      3.538   4.718  14.548\n",
      "GSM877176      1935   4.066  1.542  2.284   3.025     3.533   4.68   14.857\n",
      "GSM877177      1935   4.114  1.585  2.322   3.028     3.576   4.679  14.741\n",
      "GSM877178      1935   4.121  1.59   2.348   3.038     3.567   4.717  14.742\n",
      "GSM877179      1935   4.042  1.534  2.385   3.022     3.515   4.549  14.796\n",
      "GSM877180      1935   4.095  1.584  2.276   3.015     3.53    4.686  14.681\n",
      "GSM877181      1935   4.05   1.569  2.296   2.973     3.507   4.593  14.735\n",
      "GSM877182      1935   4.094  1.557  2.355   3.039     3.567   4.677  14.834\n",
      "GSM877183      1935   4.062  1.575  2.28    3.007     3.498   4.597  14.68\n",
      "GSM877184      1935   4.061  1.565  2.348   2.989     3.481   4.654  14.588\n",
      "GSM877185      1935   4.009  1.58   2.303   2.934     3.413   4.569  14.558\n",
      "GSM877186      1935   4.127  1.66   2.233   2.977     3.516   4.77   14.579\n",
      "GSM877187      1935   4.062  1.6    2.298   2.979     3.485   4.673  14.711\n",
      "GSM877188      1935   4.06   1.589  2.351   2.986     3.492   4.657  14.769\n",
      "----------------------------------------------------------------------------------------------------\n",
      "\n",
      "\n",
      "MISSING DATA:\n",
      "----------------------------------------------------------------------------------------------------\n",
      "There are no missing values in the dataset.\n",
      "----------------------------------------------------------------------------------------------------\n"
     ]
    }
   ],
   "source": [
    "gene_categorical, gene_continuous = ai.data_info(gene_expression_df, gene_expression_data, 20)"
   ]
  },
  {
   "cell_type": "code",
   "execution_count": 5,
   "metadata": {},
   "outputs": [
    {
     "name": "stdout",
     "output_type": "stream",
     "text": [
      "\n",
      "\n",
      "DATA FILE:\n",
      "----------------------------------------------------------------------------------------------------\n",
      "Colorectal Cancer Patient Data.csv\n",
      "----------------------------------------------------------------------------------------------------\n",
      "\n",
      "\n",
      "DIMENSIONS:\n",
      "----------------------------------------------------------------------------------------------------\n",
      "Entries: 63\n",
      "Features: 9\n",
      "----------------------------------------------------------------------------------------------------\n",
      "\n",
      "\n",
      "CATEGORICAL FEATURES:\n",
      "----------------------------------------------------------------------------------------------------\n",
      "Features     Categories\n",
      "-----------  -------------------------------------\n",
      "Dukes Stage  ['A' 'B' 'C' 'D' nan]\n",
      "Gender       ['Male' 'Female' nan]\n",
      "Location     ['Left' 'Right' 'Rectum' 'Colon' nan]\n",
      "DFS event    [ 0.  1. nan]\n",
      "Adj_Radio    [ 1.  0. nan]\n",
      "Adj_Chem     [ 0.  1. nan]\n",
      "----------------------------------------------------------------------------------------------------\n",
      "\n",
      "\n",
      "CONTINUOUS FEATURES:\n",
      "----------------------------------------------------------------------------------------------------\n",
      "Features           Count    Mean     Std    Min    25th    Median    75th    Max\n",
      "---------------  -------  ------  ------  -----  ------  --------  ------  -----\n",
      "Age (in years)        63  61.113   9.504     28     nan       nan     nan     78\n",
      "DFS (in months)       63  41.774  26.075      4     nan       nan     nan    108\n",
      "----------------------------------------------------------------------------------------------------\n",
      "\n",
      "\n",
      "MISSING DATA:\n",
      "----------------------------------------------------------------------------------------------------\n",
      "The following features have missing values:\n",
      "Features           Missing Data\n",
      "---------------  --------------\n",
      "ID_REF                        1\n",
      "Age (in years)                1\n",
      "Dukes Stage                   1\n",
      "Gender                        1\n",
      "Location                      1\n",
      "DFS (in months)               1\n",
      "DFS event                     1\n",
      "Adj_Radio                     1\n",
      "Adj_Chem                      1\n",
      "\n",
      "\n",
      "----------------------------------------------------------------------------------------------------\n"
     ]
    }
   ],
   "source": [
    "patient_categorical, patient_continuous = ai.data_info(patient_df, patient_data, 20)"
   ]
  },
  {
   "cell_type": "code",
   "execution_count": null,
   "metadata": {},
   "outputs": [],
   "source": [
    "ai.correlations(gene_expression_df, type=\"pearson\", printout=\"matrix\")"
   ]
  },
  {
   "cell_type": "code",
   "execution_count": null,
   "metadata": {},
   "outputs": [],
   "source": [
    "ai.correlations(gene_expression_df, type=\"pearson\", printout=\"heatmap\")"
   ]
  },
  {
   "cell_type": "code",
   "execution_count": 6,
   "metadata": {},
   "outputs": [
    {
     "name": "stdout",
     "output_type": "stream",
     "text": [
      "Correlation Matrix:\n"
     ]
    },
    {
     "data": {
      "text/html": [
       "<div>\n",
       "<style scoped>\n",
       "    .dataframe tbody tr th:only-of-type {\n",
       "        vertical-align: middle;\n",
       "    }\n",
       "\n",
       "    .dataframe tbody tr th {\n",
       "        vertical-align: top;\n",
       "    }\n",
       "\n",
       "    .dataframe thead th {\n",
       "        text-align: right;\n",
       "    }\n",
       "</style>\n",
       "<table border=\"1\" class=\"dataframe\">\n",
       "  <thead>\n",
       "    <tr style=\"text-align: right;\">\n",
       "      <th></th>\n",
       "      <th>Age (in years)</th>\n",
       "      <th>DFS (in months)</th>\n",
       "      <th>DFS event</th>\n",
       "      <th>Adj_Radio</th>\n",
       "      <th>Adj_Chem</th>\n",
       "    </tr>\n",
       "  </thead>\n",
       "  <tbody>\n",
       "    <tr>\n",
       "      <th>Age (in years)</th>\n",
       "      <td>1.000</td>\n",
       "      <td>-0.118</td>\n",
       "      <td>0.145</td>\n",
       "      <td>0.171</td>\n",
       "      <td>0.056</td>\n",
       "    </tr>\n",
       "    <tr>\n",
       "      <th>DFS (in months)</th>\n",
       "      <td>-0.118</td>\n",
       "      <td>1.000</td>\n",
       "      <td>-0.456</td>\n",
       "      <td>-0.053</td>\n",
       "      <td>-0.055</td>\n",
       "    </tr>\n",
       "    <tr>\n",
       "      <th>DFS event</th>\n",
       "      <td>0.145</td>\n",
       "      <td>-0.456</td>\n",
       "      <td>1.000</td>\n",
       "      <td>-0.177</td>\n",
       "      <td>-0.059</td>\n",
       "    </tr>\n",
       "    <tr>\n",
       "      <th>Adj_Radio</th>\n",
       "      <td>0.171</td>\n",
       "      <td>-0.053</td>\n",
       "      <td>-0.177</td>\n",
       "      <td>1.000</td>\n",
       "      <td>-0.192</td>\n",
       "    </tr>\n",
       "    <tr>\n",
       "      <th>Adj_Chem</th>\n",
       "      <td>0.056</td>\n",
       "      <td>-0.055</td>\n",
       "      <td>-0.059</td>\n",
       "      <td>-0.192</td>\n",
       "      <td>1.000</td>\n",
       "    </tr>\n",
       "  </tbody>\n",
       "</table>\n",
       "</div>"
      ],
      "text/plain": [
       "                 Age (in years)  DFS (in months)  DFS event  Adj_Radio  \\\n",
       "Age (in years)            1.000           -0.118      0.145      0.171   \n",
       "DFS (in months)          -0.118            1.000     -0.456     -0.053   \n",
       "DFS event                 0.145           -0.456      1.000     -0.177   \n",
       "Adj_Radio                 0.171           -0.053     -0.177      1.000   \n",
       "Adj_Chem                  0.056           -0.055     -0.059     -0.192   \n",
       "\n",
       "                 Adj_Chem  \n",
       "Age (in years)      0.056  \n",
       "DFS (in months)    -0.055  \n",
       "DFS event          -0.059  \n",
       "Adj_Radio          -0.192  \n",
       "Adj_Chem            1.000  "
      ]
     },
     "metadata": {},
     "output_type": "display_data"
    }
   ],
   "source": [
    "ai.correlations(patient_df, type=\"pearson\", printout=\"matrix\")"
   ]
  },
  {
   "cell_type": "code",
   "execution_count": 7,
   "metadata": {},
   "outputs": [
    {
     "name": "stdout",
     "output_type": "stream",
     "text": [
      "Heatmap:\n"
     ]
    },
    {
     "data": {
      "application/vnd.plotly.v1+json": {
       "config": {
        "plotlyServerURL": "https://plot.ly"
       },
       "data": [
        {
         "coloraxis": "coloraxis",
         "hovertemplate": "x: %{x}<br>y: %{y}<br>color: %{z}<extra></extra>",
         "name": "0",
         "texttemplate": "%{z}",
         "type": "heatmap",
         "x": [
          "Age (in years)",
          "DFS (in months)",
          "DFS event",
          "Adj_Radio",
          "Adj_Chem"
         ],
         "xaxis": "x",
         "y": [
          "Age (in years)",
          "DFS (in months)",
          "DFS event",
          "Adj_Radio",
          "Adj_Chem"
         ],
         "yaxis": "y",
         "z": [
          [
           1,
           -0.118,
           0.145,
           0.171,
           0.056
          ],
          [
           -0.118,
           1,
           -0.456,
           -0.053,
           -0.055
          ],
          [
           0.145,
           -0.456,
           1,
           -0.177,
           -0.059
          ],
          [
           0.171,
           -0.053,
           -0.177,
           1,
           -0.192
          ],
          [
           0.056,
           -0.055,
           -0.059,
           -0.192,
           1
          ]
         ]
        }
       ],
       "layout": {
        "coloraxis": {
         "colorscale": [
          [
           0,
           "#440154"
          ],
          [
           0.1111111111111111,
           "#482878"
          ],
          [
           0.2222222222222222,
           "#3e4989"
          ],
          [
           0.3333333333333333,
           "#31688e"
          ],
          [
           0.4444444444444444,
           "#26828e"
          ],
          [
           0.5555555555555556,
           "#1f9e89"
          ],
          [
           0.6666666666666666,
           "#35b779"
          ],
          [
           0.7777777777777778,
           "#6ece58"
          ],
          [
           0.8888888888888888,
           "#b5de2b"
          ],
          [
           1,
           "#fde725"
          ]
         ]
        },
        "margin": {
         "t": 60
        },
        "template": {
         "data": {
          "bar": [
           {
            "error_x": {
             "color": "#2a3f5f"
            },
            "error_y": {
             "color": "#2a3f5f"
            },
            "marker": {
             "line": {
              "color": "#E5ECF6",
              "width": 0.5
             },
             "pattern": {
              "fillmode": "overlay",
              "size": 10,
              "solidity": 0.2
             }
            },
            "type": "bar"
           }
          ],
          "barpolar": [
           {
            "marker": {
             "line": {
              "color": "#E5ECF6",
              "width": 0.5
             },
             "pattern": {
              "fillmode": "overlay",
              "size": 10,
              "solidity": 0.2
             }
            },
            "type": "barpolar"
           }
          ],
          "carpet": [
           {
            "aaxis": {
             "endlinecolor": "#2a3f5f",
             "gridcolor": "white",
             "linecolor": "white",
             "minorgridcolor": "white",
             "startlinecolor": "#2a3f5f"
            },
            "baxis": {
             "endlinecolor": "#2a3f5f",
             "gridcolor": "white",
             "linecolor": "white",
             "minorgridcolor": "white",
             "startlinecolor": "#2a3f5f"
            },
            "type": "carpet"
           }
          ],
          "choropleth": [
           {
            "colorbar": {
             "outlinewidth": 0,
             "ticks": ""
            },
            "type": "choropleth"
           }
          ],
          "contour": [
           {
            "colorbar": {
             "outlinewidth": 0,
             "ticks": ""
            },
            "colorscale": [
             [
              0,
              "#0d0887"
             ],
             [
              0.1111111111111111,
              "#46039f"
             ],
             [
              0.2222222222222222,
              "#7201a8"
             ],
             [
              0.3333333333333333,
              "#9c179e"
             ],
             [
              0.4444444444444444,
              "#bd3786"
             ],
             [
              0.5555555555555556,
              "#d8576b"
             ],
             [
              0.6666666666666666,
              "#ed7953"
             ],
             [
              0.7777777777777778,
              "#fb9f3a"
             ],
             [
              0.8888888888888888,
              "#fdca26"
             ],
             [
              1,
              "#f0f921"
             ]
            ],
            "type": "contour"
           }
          ],
          "contourcarpet": [
           {
            "colorbar": {
             "outlinewidth": 0,
             "ticks": ""
            },
            "type": "contourcarpet"
           }
          ],
          "heatmap": [
           {
            "colorbar": {
             "outlinewidth": 0,
             "ticks": ""
            },
            "colorscale": [
             [
              0,
              "#0d0887"
             ],
             [
              0.1111111111111111,
              "#46039f"
             ],
             [
              0.2222222222222222,
              "#7201a8"
             ],
             [
              0.3333333333333333,
              "#9c179e"
             ],
             [
              0.4444444444444444,
              "#bd3786"
             ],
             [
              0.5555555555555556,
              "#d8576b"
             ],
             [
              0.6666666666666666,
              "#ed7953"
             ],
             [
              0.7777777777777778,
              "#fb9f3a"
             ],
             [
              0.8888888888888888,
              "#fdca26"
             ],
             [
              1,
              "#f0f921"
             ]
            ],
            "type": "heatmap"
           }
          ],
          "heatmapgl": [
           {
            "colorbar": {
             "outlinewidth": 0,
             "ticks": ""
            },
            "colorscale": [
             [
              0,
              "#0d0887"
             ],
             [
              0.1111111111111111,
              "#46039f"
             ],
             [
              0.2222222222222222,
              "#7201a8"
             ],
             [
              0.3333333333333333,
              "#9c179e"
             ],
             [
              0.4444444444444444,
              "#bd3786"
             ],
             [
              0.5555555555555556,
              "#d8576b"
             ],
             [
              0.6666666666666666,
              "#ed7953"
             ],
             [
              0.7777777777777778,
              "#fb9f3a"
             ],
             [
              0.8888888888888888,
              "#fdca26"
             ],
             [
              1,
              "#f0f921"
             ]
            ],
            "type": "heatmapgl"
           }
          ],
          "histogram": [
           {
            "marker": {
             "pattern": {
              "fillmode": "overlay",
              "size": 10,
              "solidity": 0.2
             }
            },
            "type": "histogram"
           }
          ],
          "histogram2d": [
           {
            "colorbar": {
             "outlinewidth": 0,
             "ticks": ""
            },
            "colorscale": [
             [
              0,
              "#0d0887"
             ],
             [
              0.1111111111111111,
              "#46039f"
             ],
             [
              0.2222222222222222,
              "#7201a8"
             ],
             [
              0.3333333333333333,
              "#9c179e"
             ],
             [
              0.4444444444444444,
              "#bd3786"
             ],
             [
              0.5555555555555556,
              "#d8576b"
             ],
             [
              0.6666666666666666,
              "#ed7953"
             ],
             [
              0.7777777777777778,
              "#fb9f3a"
             ],
             [
              0.8888888888888888,
              "#fdca26"
             ],
             [
              1,
              "#f0f921"
             ]
            ],
            "type": "histogram2d"
           }
          ],
          "histogram2dcontour": [
           {
            "colorbar": {
             "outlinewidth": 0,
             "ticks": ""
            },
            "colorscale": [
             [
              0,
              "#0d0887"
             ],
             [
              0.1111111111111111,
              "#46039f"
             ],
             [
              0.2222222222222222,
              "#7201a8"
             ],
             [
              0.3333333333333333,
              "#9c179e"
             ],
             [
              0.4444444444444444,
              "#bd3786"
             ],
             [
              0.5555555555555556,
              "#d8576b"
             ],
             [
              0.6666666666666666,
              "#ed7953"
             ],
             [
              0.7777777777777778,
              "#fb9f3a"
             ],
             [
              0.8888888888888888,
              "#fdca26"
             ],
             [
              1,
              "#f0f921"
             ]
            ],
            "type": "histogram2dcontour"
           }
          ],
          "mesh3d": [
           {
            "colorbar": {
             "outlinewidth": 0,
             "ticks": ""
            },
            "type": "mesh3d"
           }
          ],
          "parcoords": [
           {
            "line": {
             "colorbar": {
              "outlinewidth": 0,
              "ticks": ""
             }
            },
            "type": "parcoords"
           }
          ],
          "pie": [
           {
            "automargin": true,
            "type": "pie"
           }
          ],
          "scatter": [
           {
            "fillpattern": {
             "fillmode": "overlay",
             "size": 10,
             "solidity": 0.2
            },
            "type": "scatter"
           }
          ],
          "scatter3d": [
           {
            "line": {
             "colorbar": {
              "outlinewidth": 0,
              "ticks": ""
             }
            },
            "marker": {
             "colorbar": {
              "outlinewidth": 0,
              "ticks": ""
             }
            },
            "type": "scatter3d"
           }
          ],
          "scattercarpet": [
           {
            "marker": {
             "colorbar": {
              "outlinewidth": 0,
              "ticks": ""
             }
            },
            "type": "scattercarpet"
           }
          ],
          "scattergeo": [
           {
            "marker": {
             "colorbar": {
              "outlinewidth": 0,
              "ticks": ""
             }
            },
            "type": "scattergeo"
           }
          ],
          "scattergl": [
           {
            "marker": {
             "colorbar": {
              "outlinewidth": 0,
              "ticks": ""
             }
            },
            "type": "scattergl"
           }
          ],
          "scattermapbox": [
           {
            "marker": {
             "colorbar": {
              "outlinewidth": 0,
              "ticks": ""
             }
            },
            "type": "scattermapbox"
           }
          ],
          "scatterpolar": [
           {
            "marker": {
             "colorbar": {
              "outlinewidth": 0,
              "ticks": ""
             }
            },
            "type": "scatterpolar"
           }
          ],
          "scatterpolargl": [
           {
            "marker": {
             "colorbar": {
              "outlinewidth": 0,
              "ticks": ""
             }
            },
            "type": "scatterpolargl"
           }
          ],
          "scatterternary": [
           {
            "marker": {
             "colorbar": {
              "outlinewidth": 0,
              "ticks": ""
             }
            },
            "type": "scatterternary"
           }
          ],
          "surface": [
           {
            "colorbar": {
             "outlinewidth": 0,
             "ticks": ""
            },
            "colorscale": [
             [
              0,
              "#0d0887"
             ],
             [
              0.1111111111111111,
              "#46039f"
             ],
             [
              0.2222222222222222,
              "#7201a8"
             ],
             [
              0.3333333333333333,
              "#9c179e"
             ],
             [
              0.4444444444444444,
              "#bd3786"
             ],
             [
              0.5555555555555556,
              "#d8576b"
             ],
             [
              0.6666666666666666,
              "#ed7953"
             ],
             [
              0.7777777777777778,
              "#fb9f3a"
             ],
             [
              0.8888888888888888,
              "#fdca26"
             ],
             [
              1,
              "#f0f921"
             ]
            ],
            "type": "surface"
           }
          ],
          "table": [
           {
            "cells": {
             "fill": {
              "color": "#EBF0F8"
             },
             "line": {
              "color": "white"
             }
            },
            "header": {
             "fill": {
              "color": "#C8D4E3"
             },
             "line": {
              "color": "white"
             }
            },
            "type": "table"
           }
          ]
         },
         "layout": {
          "annotationdefaults": {
           "arrowcolor": "#2a3f5f",
           "arrowhead": 0,
           "arrowwidth": 1
          },
          "autotypenumbers": "strict",
          "coloraxis": {
           "colorbar": {
            "outlinewidth": 0,
            "ticks": ""
           }
          },
          "colorscale": {
           "diverging": [
            [
             0,
             "#8e0152"
            ],
            [
             0.1,
             "#c51b7d"
            ],
            [
             0.2,
             "#de77ae"
            ],
            [
             0.3,
             "#f1b6da"
            ],
            [
             0.4,
             "#fde0ef"
            ],
            [
             0.5,
             "#f7f7f7"
            ],
            [
             0.6,
             "#e6f5d0"
            ],
            [
             0.7,
             "#b8e186"
            ],
            [
             0.8,
             "#7fbc41"
            ],
            [
             0.9,
             "#4d9221"
            ],
            [
             1,
             "#276419"
            ]
           ],
           "sequential": [
            [
             0,
             "#0d0887"
            ],
            [
             0.1111111111111111,
             "#46039f"
            ],
            [
             0.2222222222222222,
             "#7201a8"
            ],
            [
             0.3333333333333333,
             "#9c179e"
            ],
            [
             0.4444444444444444,
             "#bd3786"
            ],
            [
             0.5555555555555556,
             "#d8576b"
            ],
            [
             0.6666666666666666,
             "#ed7953"
            ],
            [
             0.7777777777777778,
             "#fb9f3a"
            ],
            [
             0.8888888888888888,
             "#fdca26"
            ],
            [
             1,
             "#f0f921"
            ]
           ],
           "sequentialminus": [
            [
             0,
             "#0d0887"
            ],
            [
             0.1111111111111111,
             "#46039f"
            ],
            [
             0.2222222222222222,
             "#7201a8"
            ],
            [
             0.3333333333333333,
             "#9c179e"
            ],
            [
             0.4444444444444444,
             "#bd3786"
            ],
            [
             0.5555555555555556,
             "#d8576b"
            ],
            [
             0.6666666666666666,
             "#ed7953"
            ],
            [
             0.7777777777777778,
             "#fb9f3a"
            ],
            [
             0.8888888888888888,
             "#fdca26"
            ],
            [
             1,
             "#f0f921"
            ]
           ]
          },
          "colorway": [
           "#636efa",
           "#EF553B",
           "#00cc96",
           "#ab63fa",
           "#FFA15A",
           "#19d3f3",
           "#FF6692",
           "#B6E880",
           "#FF97FF",
           "#FECB52"
          ],
          "font": {
           "color": "#2a3f5f"
          },
          "geo": {
           "bgcolor": "white",
           "lakecolor": "white",
           "landcolor": "#E5ECF6",
           "showlakes": true,
           "showland": true,
           "subunitcolor": "white"
          },
          "hoverlabel": {
           "align": "left"
          },
          "hovermode": "closest",
          "mapbox": {
           "style": "light"
          },
          "paper_bgcolor": "white",
          "plot_bgcolor": "#E5ECF6",
          "polar": {
           "angularaxis": {
            "gridcolor": "white",
            "linecolor": "white",
            "ticks": ""
           },
           "bgcolor": "#E5ECF6",
           "radialaxis": {
            "gridcolor": "white",
            "linecolor": "white",
            "ticks": ""
           }
          },
          "scene": {
           "xaxis": {
            "backgroundcolor": "#E5ECF6",
            "gridcolor": "white",
            "gridwidth": 2,
            "linecolor": "white",
            "showbackground": true,
            "ticks": "",
            "zerolinecolor": "white"
           },
           "yaxis": {
            "backgroundcolor": "#E5ECF6",
            "gridcolor": "white",
            "gridwidth": 2,
            "linecolor": "white",
            "showbackground": true,
            "ticks": "",
            "zerolinecolor": "white"
           },
           "zaxis": {
            "backgroundcolor": "#E5ECF6",
            "gridcolor": "white",
            "gridwidth": 2,
            "linecolor": "white",
            "showbackground": true,
            "ticks": "",
            "zerolinecolor": "white"
           }
          },
          "shapedefaults": {
           "line": {
            "color": "#2a3f5f"
           }
          },
          "ternary": {
           "aaxis": {
            "gridcolor": "white",
            "linecolor": "white",
            "ticks": ""
           },
           "baxis": {
            "gridcolor": "white",
            "linecolor": "white",
            "ticks": ""
           },
           "bgcolor": "#E5ECF6",
           "caxis": {
            "gridcolor": "white",
            "linecolor": "white",
            "ticks": ""
           }
          },
          "title": {
           "x": 0.05
          },
          "xaxis": {
           "automargin": true,
           "gridcolor": "white",
           "linecolor": "white",
           "ticks": "",
           "title": {
            "standoff": 15
           },
           "zerolinecolor": "white",
           "zerolinewidth": 2
          },
          "yaxis": {
           "automargin": true,
           "gridcolor": "white",
           "linecolor": "white",
           "ticks": "",
           "title": {
            "standoff": 15
           },
           "zerolinecolor": "white",
           "zerolinewidth": 2
          }
         }
        },
        "xaxis": {
         "anchor": "y",
         "constrain": "domain",
         "domain": [
          0,
          1
         ],
         "scaleanchor": "y"
        },
        "yaxis": {
         "anchor": "x",
         "autorange": "reversed",
         "constrain": "domain",
         "domain": [
          0,
          1
         ]
        }
       }
      }
     },
     "metadata": {},
     "output_type": "display_data"
    }
   ],
   "source": [
    "ai.correlations(patient_df, type=\"pearson\", printout=\"heatmap\")"
   ]
  },
  {
   "cell_type": "code",
   "execution_count": null,
   "metadata": {},
   "outputs": [],
   "source": []
  }
 ],
 "metadata": {
  "kernelspec": {
   "display_name": "Python 3.7.1 ('biolizard-internship-marios')",
   "language": "python",
   "name": "python3"
  },
  "language_info": {
   "codemirror_mode": {
    "name": "ipython",
    "version": 3
   },
   "file_extension": ".py",
   "mimetype": "text/x-python",
   "name": "python",
   "nbconvert_exporter": "python",
   "pygments_lexer": "ipython3",
   "version": "3.7.1"
  },
  "orig_nbformat": 4,
  "vscode": {
   "interpreter": {
    "hash": "3412fe7d1d8d99d763d749890de5d42f642ee913d774fc4a34229a5473c272e5"
   }
  }
 },
 "nbformat": 4,
 "nbformat_minor": 2
}
